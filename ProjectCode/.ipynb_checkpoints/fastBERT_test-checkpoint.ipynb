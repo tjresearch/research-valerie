{
 "cells": [
  {
   "cell_type": "code",
   "execution_count": 2,
   "metadata": {},
   "outputs": [
    {
     "name": "stdout",
     "output_type": "stream",
     "text": [
      "Collecting fast-bert\n",
      "  Using cached https://files.pythonhosted.org/packages/c0/8c/638774edc1b4f1536f51ed1fbf36a6fe88f954fd0f241b1763cc246c57f6/fast_bert-1.5.2-py3-none-any.whl\n",
      "Collecting tensorboardX\n",
      "  Using cached https://files.pythonhosted.org/packages/a6/5c/e918d9f190baab8d55bad52840d8091dd5114cc99f03eaa6d72d404503cc/tensorboardX-1.9-py2.py3-none-any.whl\n",
      "Collecting pytorch-lamb\n",
      "  Using cached https://files.pythonhosted.org/packages/43/98/3bce14a319317a2856db722f2542d329baf42845fa53563d0d749c5a2d40/pytorch_lamb-1.0.0-py3-none-any.whl\n",
      "Collecting spacy\n",
      "  Using cached https://files.pythonhosted.org/packages/91/76/1f30264c433f9c3c84171fa03f4b6bb5f3303df7781d21554d25045873f4/spacy-2.2.3-cp37-cp37m-manylinux1_x86_64.whl\n",
      "Collecting torch>=1.3.0\n",
      "  Using cached https://files.pythonhosted.org/packages/f9/34/2107f342d4493b7107a600ee16005b2870b5a0a5a165bdf5c5e7168a16a6/torch-1.3.1-cp37-cp37m-manylinux1_x86_64.whl\n",
      "Processing /cluster/2020vnayak/.cache/pip/wheels/76/03/bb/589d421d27431bcd2c6da284d5f2286c8e3b2ea3cf1594c074/sklearn-0.0-py2.py3-none-any.whl\n",
      "Collecting pandas\n",
      "  Using cached https://files.pythonhosted.org/packages/63/e0/a1b39cdcb2c391f087a1538bc8a6d62a82d0439693192aef541d7b123769/pandas-0.25.3-cp37-cp37m-manylinux1_x86_64.whl\n",
      "Collecting fastprogress\n",
      "  Using cached https://files.pythonhosted.org/packages/f0/4f/eb76f71e7da768325e029b10a443aa015236a04217ec482e861fae7ccb8f/fastprogress-0.1.22-py3-none-any.whl\n",
      "Collecting transformers>=2.2.0\n",
      "  Using cached https://files.pythonhosted.org/packages/d1/08/4a6768ca1a7a4fa37e5ee08077c5d02b8d83876bd36caa5fc24d98992ac2/transformers-2.2.2-py3-none-any.whl\n",
      "Requirement already satisfied: protobuf>=3.8.0 in /usr/local/miniconda3/lib/python3.7/site-packages (from tensorboardX->fast-bert) (3.10.1)\n",
      "Requirement already satisfied: numpy in /usr/local/miniconda3/lib/python3.7/site-packages (from tensorboardX->fast-bert) (1.17.3)\n",
      "Requirement already satisfied: six in /usr/local/miniconda3/lib/python3.7/site-packages (from tensorboardX->fast-bert) (1.12.0)\n",
      "Collecting torchvision\n",
      "  Using cached https://files.pythonhosted.org/packages/74/ee/d872c12ea508f9cca4cf0d7b91fc5a5e476cec77628a66795ec5a585a67f/torchvision-0.4.2-cp37-cp37m-manylinux1_x86_64.whl\n",
      "Requirement already satisfied: tqdm in /usr/local/miniconda3/lib/python3.7/site-packages (from pytorch-lamb->fast-bert) (4.36.1)\n",
      "Collecting cymem<2.1.0,>=2.0.2\n",
      "  Using cached https://files.pythonhosted.org/packages/e1/79/6ce05ecf4d50344e29749ea7db7ddf427589228fb8fe89b29718c38c27c5/cymem-2.0.3-cp37-cp37m-manylinux1_x86_64.whl\n",
      "Collecting plac<1.2.0,>=0.9.6\n",
      "  Using cached https://files.pythonhosted.org/packages/86/85/40b8f66c2dd8f4fd9f09d59b22720cffecf1331e788b8a0cab5bafb353d1/plac-1.1.3-py2.py3-none-any.whl\n",
      "Collecting preshed<3.1.0,>=3.0.2\n",
      "  Using cached https://files.pythonhosted.org/packages/6c/5b/ae4da6230eb48df353b199f53532c8407d0e9eb6ed678d3d36fa75ac391c/preshed-3.0.2-cp37-cp37m-manylinux1_x86_64.whl\n",
      "Collecting blis<0.5.0,>=0.4.0\n",
      "  Using cached https://files.pythonhosted.org/packages/0a/8c/f1b2aad385de78db151a6e9728026f311dee8bd480f2edc28a0175a543b6/blis-0.4.1-cp37-cp37m-manylinux1_x86_64.whl\n",
      "Collecting wasabi<1.1.0,>=0.4.0\n",
      "  Using cached https://files.pythonhosted.org/packages/ff/ef/e8266e158ed32bf5f723fac862b6518833d0b53ca183165a8718f212c0d5/wasabi-0.4.2-py3-none-any.whl\n",
      "Collecting thinc<7.4.0,>=7.3.0\n",
      "  Using cached https://files.pythonhosted.org/packages/32/53/d11d2faa6921e55c37ad2cd56b0866a9e6df647fb547cfb69a50059d759c/thinc-7.3.1-cp37-cp37m-manylinux1_x86_64.whl\n",
      "Collecting srsly<1.1.0,>=0.1.0\n",
      "  Using cached https://files.pythonhosted.org/packages/00/5a/9a3288b648a0c5c86d0a2ef972b0a8062ff1088658da8165b370564ef346/srsly-0.2.0-cp37-cp37m-manylinux1_x86_64.whl\n",
      "Requirement already satisfied: setuptools in /usr/local/miniconda3/lib/python3.7/site-packages (from spacy->fast-bert) (41.4.0)\n",
      "Requirement already satisfied: requests<3.0.0,>=2.13.0 in /usr/local/miniconda3/lib/python3.7/site-packages (from spacy->fast-bert) (2.22.0)\n",
      "Collecting catalogue<1.1.0,>=0.0.7\n",
      "  Using cached https://files.pythonhosted.org/packages/4f/d5/46ff975f0d7d055cf95557b944fd5d29d9dfb37a4341038e070f212b24fe/catalogue-0.0.8-py2.py3-none-any.whl\n",
      "Collecting murmurhash<1.1.0,>=0.28.0\n",
      "  Using cached https://files.pythonhosted.org/packages/73/fc/10eeacb926ec1e88cd62f79d9ac106b0a3e3fe5ff1690422d88c29bd0909/murmurhash-1.0.2-cp37-cp37m-manylinux1_x86_64.whl\n",
      "Collecting scikit-learn\n",
      "  Using cached https://files.pythonhosted.org/packages/19/96/8034e350d4550748277e514d0d6d91bdd36be19e6c5f40b8af0d74cb0c84/scikit_learn-0.22-cp37-cp37m-manylinux1_x86_64.whl\n",
      "Requirement already satisfied: python-dateutil>=2.6.1 in /usr/local/miniconda3/lib/python3.7/site-packages (from pandas->fast-bert) (2.8.1)\n",
      "Collecting pytz>=2017.2\n",
      "  Using cached https://files.pythonhosted.org/packages/e7/f9/f0b53f88060247251bf481fa6ea62cd0d25bf1b11a87888e53ce5b7c8ad2/pytz-2019.3-py2.py3-none-any.whl\n",
      "Processing /cluster/2020vnayak/.cache/pip/wheels/63/2a/db/63e2909042c634ef551d0d9ac825b2b0b32dede4a6d87ddc94/sacremoses-0.0.35-cp37-none-any.whl\n",
      "Collecting sentencepiece\n",
      "  Using cached https://files.pythonhosted.org/packages/11/e0/1264990c559fb945cfb6664742001608e1ed8359eeec6722830ae085062b/sentencepiece-0.1.85-cp37-cp37m-manylinux1_x86_64.whl\n",
      "Processing /cluster/2020vnayak/.cache/pip/wheels/0d/fb/b3/a89169557229468c49ca64f6839418f22461f6ee0a74f342b1/regex-2019.12.9-cp37-cp37m-linux_x86_64.whl\n",
      "Collecting boto3\n",
      "  Using cached https://files.pythonhosted.org/packages/5d/62/9629ee1a41757b65b55c2070d2e0afee80a89e3ea0076b9b9669a773308b/boto3-1.10.40-py2.py3-none-any.whl\n",
      "Collecting pillow>=4.1.1\n",
      "  Using cached https://files.pythonhosted.org/packages/89/3e/31c2e5385d7588016c6f7ac552e81c3fff2bef4bc61b6f82f8177752405c/Pillow-6.2.1-cp37-cp37m-manylinux1_x86_64.whl\n",
      "Requirement already satisfied: urllib3!=1.25.0,!=1.25.1,<1.26,>=1.21.1 in /usr/local/miniconda3/lib/python3.7/site-packages (from requests<3.0.0,>=2.13.0->spacy->fast-bert) (1.24.2)\n",
      "Requirement already satisfied: certifi>=2017.4.17 in /usr/local/miniconda3/lib/python3.7/site-packages (from requests<3.0.0,>=2.13.0->spacy->fast-bert) (2019.9.11)\n",
      "Requirement already satisfied: idna<2.9,>=2.5 in /usr/local/miniconda3/lib/python3.7/site-packages (from requests<3.0.0,>=2.13.0->spacy->fast-bert) (2.8)\n",
      "Requirement already satisfied: chardet<3.1.0,>=3.0.2 in /usr/local/miniconda3/lib/python3.7/site-packages (from requests<3.0.0,>=2.13.0->spacy->fast-bert) (3.0.4)\n",
      "Requirement already satisfied: importlib-metadata>=0.20; python_version < \"3.8\" in /usr/local/miniconda3/lib/python3.7/site-packages (from catalogue<1.1.0,>=0.0.7->spacy->fast-bert) (0.23)\n",
      "Collecting joblib>=0.11\n",
      "  Using cached https://files.pythonhosted.org/packages/28/5c/cf6a2b65a321c4a209efcdf64c2689efae2cb62661f8f6f4bb28547cf1bf/joblib-0.14.1-py2.py3-none-any.whl\n",
      "Requirement already satisfied: scipy>=0.17.0 in /usr/local/miniconda3/lib/python3.7/site-packages (from scikit-learn->sklearn->fast-bert) (1.3.1)\n",
      "Collecting click\n",
      "  Using cached https://files.pythonhosted.org/packages/fa/37/45185cb5abbc30d7257104c434fe0b07e5a195a6847506c074527aa599ec/Click-7.0-py2.py3-none-any.whl\n",
      "Collecting jmespath<1.0.0,>=0.7.1\n",
      "  Using cached https://files.pythonhosted.org/packages/83/94/7179c3832a6d45b266ddb2aac329e101367fbdb11f425f13771d27f225bb/jmespath-0.9.4-py2.py3-none-any.whl\n",
      "Collecting s3transfer<0.3.0,>=0.2.0\n",
      "  Using cached https://files.pythonhosted.org/packages/16/8a/1fc3dba0c4923c2a76e1ff0d52b305c44606da63f718d14d3231e21c51b0/s3transfer-0.2.1-py2.py3-none-any.whl\n",
      "Collecting botocore<1.14.0,>=1.13.40\n",
      "  Using cached https://files.pythonhosted.org/packages/6b/16/c8fa1876cd4e7749e67e3d47e9fa88dfde4c4aded28747e278be3424733d/botocore-1.13.40-py2.py3-none-any.whl\n",
      "Requirement already satisfied: zipp>=0.5 in /usr/local/miniconda3/lib/python3.7/site-packages (from importlib-metadata>=0.20; python_version < \"3.8\"->catalogue<1.1.0,>=0.0.7->spacy->fast-bert) (0.6.0)\n",
      "Collecting docutils<0.16,>=0.10\n",
      "  Using cached https://files.pythonhosted.org/packages/22/cd/a6aa959dca619918ccb55023b4cb151949c64d4d5d55b3f4ffd7eee0c6e8/docutils-0.15.2-py3-none-any.whl\n",
      "Requirement already satisfied: more-itertools in /usr/local/miniconda3/lib/python3.7/site-packages (from zipp>=0.5->importlib-metadata>=0.20; python_version < \"3.8\"->catalogue<1.1.0,>=0.0.7->spacy->fast-bert) (7.2.0)\n",
      "\u001b[31mERROR: botocore 1.13.40 has requirement python-dateutil<2.8.1,>=2.1; python_version >= \"2.7\", but you'll have python-dateutil 2.8.1 which is incompatible.\u001b[0m\n",
      "Installing collected packages: tensorboardX, torch, pillow, torchvision, pytorch-lamb, cymem, plac, murmurhash, preshed, blis, wasabi, srsly, thinc, catalogue, spacy, joblib, scikit-learn, sklearn, pytz, pandas, fastprogress, click, sacremoses, sentencepiece, regex, jmespath, docutils, botocore, s3transfer, boto3, transformers, fast-bert\n",
      "\u001b[33m  WARNING: The scripts convert-caffe2-to-onnx and convert-onnx-to-caffe2 are installed in '/cluster/2020vnayak/.local/bin' which is not on PATH.\n",
      "  Consider adding this directory to PATH or, if you prefer to suppress this warning, use --no-warn-script-location.\u001b[0m\n",
      "\u001b[33m  WARNING: The script sacremoses is installed in '/cluster/2020vnayak/.local/bin' which is not on PATH.\n",
      "  Consider adding this directory to PATH or, if you prefer to suppress this warning, use --no-warn-script-location.\u001b[0m\n",
      "\u001b[33m  WARNING: The script transformers is installed in '/cluster/2020vnayak/.local/bin' which is not on PATH.\n",
      "  Consider adding this directory to PATH or, if you prefer to suppress this warning, use --no-warn-script-location.\u001b[0m\n",
      "Successfully installed blis-0.4.1 boto3-1.10.40 botocore-1.13.40 catalogue-0.0.8 click-7.0 cymem-2.0.3 docutils-0.15.2 fast-bert-1.5.2 fastprogress-0.1.22 jmespath-0.9.4 joblib-0.14.1 murmurhash-1.0.2 pandas-0.25.3 pillow-6.2.1 plac-1.1.3 preshed-3.0.2 pytorch-lamb-1.0.0 pytz-2019.3 regex-2019.12.9 s3transfer-0.2.1 sacremoses-0.0.35 scikit-learn-0.22 sentencepiece-0.1.85 sklearn-0.0 spacy-2.2.3 srsly-0.2.0 tensorboardX-1.9 thinc-7.3.1 torch-1.3.1 torchvision-0.4.2 transformers-2.2.2 wasabi-0.4.2\n",
      "Collecting git+https://github.com/kaushaltrivedi/fast-bert.git\n",
      "  Cloning https://github.com/kaushaltrivedi/fast-bert.git to /tmp/pip-req-build-nx2_mm6q\n",
      "  Running command git clone -q https://github.com/kaushaltrivedi/fast-bert.git /tmp/pip-req-build-nx2_mm6q\n",
      "Requirement already satisfied (use --upgrade to upgrade): fast-bert==1.5.2 from git+https://github.com/kaushaltrivedi/fast-bert.git in /cluster/2020vnayak/.local/lib/python3.7/site-packages\n",
      "Requirement already satisfied: torch>=1.3.0 in /cluster/2020vnayak/.local/lib/python3.7/site-packages (from fast-bert==1.5.2) (1.3.1)\n",
      "Requirement already satisfied: pytorch-lamb in /cluster/2020vnayak/.local/lib/python3.7/site-packages (from fast-bert==1.5.2) (1.0.0)\n",
      "Requirement already satisfied: tensorboardX in /cluster/2020vnayak/.local/lib/python3.7/site-packages (from fast-bert==1.5.2) (1.9)\n",
      "Requirement already satisfied: fastprogress in /cluster/2020vnayak/.local/lib/python3.7/site-packages (from fast-bert==1.5.2) (0.1.22)\n",
      "Requirement already satisfied: sklearn in /cluster/2020vnayak/.local/lib/python3.7/site-packages (from fast-bert==1.5.2) (0.0)\n",
      "Requirement already satisfied: spacy in /cluster/2020vnayak/.local/lib/python3.7/site-packages (from fast-bert==1.5.2) (2.2.3)\n",
      "Requirement already satisfied: transformers>=2.2.0 in /cluster/2020vnayak/.local/lib/python3.7/site-packages (from fast-bert==1.5.2) (2.2.2)\n",
      "Requirement already satisfied: pandas in /cluster/2020vnayak/.local/lib/python3.7/site-packages (from fast-bert==1.5.2) (0.25.3)\n",
      "Requirement already satisfied: numpy in /usr/local/miniconda3/lib/python3.7/site-packages (from torch>=1.3.0->fast-bert==1.5.2) (1.17.3)\n",
      "Requirement already satisfied: torchvision in /cluster/2020vnayak/.local/lib/python3.7/site-packages (from pytorch-lamb->fast-bert==1.5.2) (0.4.2)\n",
      "Requirement already satisfied: tqdm in /usr/local/miniconda3/lib/python3.7/site-packages (from pytorch-lamb->fast-bert==1.5.2) (4.36.1)\n",
      "Requirement already satisfied: protobuf>=3.8.0 in /usr/local/miniconda3/lib/python3.7/site-packages (from tensorboardX->fast-bert==1.5.2) (3.10.1)\n",
      "Requirement already satisfied: six in /usr/local/miniconda3/lib/python3.7/site-packages (from tensorboardX->fast-bert==1.5.2) (1.12.0)\n",
      "Requirement already satisfied: scikit-learn in /cluster/2020vnayak/.local/lib/python3.7/site-packages (from sklearn->fast-bert==1.5.2) (0.22)\n",
      "Requirement already satisfied: requests<3.0.0,>=2.13.0 in /usr/local/miniconda3/lib/python3.7/site-packages (from spacy->fast-bert==1.5.2) (2.22.0)\n",
      "Requirement already satisfied: blis<0.5.0,>=0.4.0 in /cluster/2020vnayak/.local/lib/python3.7/site-packages (from spacy->fast-bert==1.5.2) (0.4.1)\n",
      "Requirement already satisfied: murmurhash<1.1.0,>=0.28.0 in /cluster/2020vnayak/.local/lib/python3.7/site-packages (from spacy->fast-bert==1.5.2) (1.0.2)\n",
      "Requirement already satisfied: setuptools in /usr/local/miniconda3/lib/python3.7/site-packages (from spacy->fast-bert==1.5.2) (41.4.0)\n",
      "Requirement already satisfied: cymem<2.1.0,>=2.0.2 in /cluster/2020vnayak/.local/lib/python3.7/site-packages (from spacy->fast-bert==1.5.2) (2.0.3)\n",
      "Requirement already satisfied: thinc<7.4.0,>=7.3.0 in /cluster/2020vnayak/.local/lib/python3.7/site-packages (from spacy->fast-bert==1.5.2) (7.3.1)\n",
      "Requirement already satisfied: srsly<1.1.0,>=0.1.0 in /cluster/2020vnayak/.local/lib/python3.7/site-packages (from spacy->fast-bert==1.5.2) (0.2.0)\n",
      "Requirement already satisfied: plac<1.2.0,>=0.9.6 in /cluster/2020vnayak/.local/lib/python3.7/site-packages (from spacy->fast-bert==1.5.2) (1.1.3)\n",
      "Requirement already satisfied: catalogue<1.1.0,>=0.0.7 in /cluster/2020vnayak/.local/lib/python3.7/site-packages (from spacy->fast-bert==1.5.2) (0.0.8)\n",
      "Requirement already satisfied: preshed<3.1.0,>=3.0.2 in /cluster/2020vnayak/.local/lib/python3.7/site-packages (from spacy->fast-bert==1.5.2) (3.0.2)\n",
      "Requirement already satisfied: wasabi<1.1.0,>=0.4.0 in /cluster/2020vnayak/.local/lib/python3.7/site-packages (from spacy->fast-bert==1.5.2) (0.4.2)\n",
      "Requirement already satisfied: sacremoses in /cluster/2020vnayak/.local/lib/python3.7/site-packages (from transformers>=2.2.0->fast-bert==1.5.2) (0.0.35)\n",
      "Requirement already satisfied: regex in /cluster/2020vnayak/.local/lib/python3.7/site-packages (from transformers>=2.2.0->fast-bert==1.5.2) (2019.12.9)\n",
      "Requirement already satisfied: boto3 in /cluster/2020vnayak/.local/lib/python3.7/site-packages (from transformers>=2.2.0->fast-bert==1.5.2) (1.10.40)\n",
      "Requirement already satisfied: sentencepiece in /cluster/2020vnayak/.local/lib/python3.7/site-packages (from transformers>=2.2.0->fast-bert==1.5.2) (0.1.85)\n",
      "Requirement already satisfied: python-dateutil>=2.6.1 in /usr/local/miniconda3/lib/python3.7/site-packages (from pandas->fast-bert==1.5.2) (2.8.1)\n",
      "Requirement already satisfied: pytz>=2017.2 in /cluster/2020vnayak/.local/lib/python3.7/site-packages (from pandas->fast-bert==1.5.2) (2019.3)\n",
      "Requirement already satisfied: pillow>=4.1.1 in /cluster/2020vnayak/.local/lib/python3.7/site-packages (from torchvision->pytorch-lamb->fast-bert==1.5.2) (6.2.1)\n",
      "Requirement already satisfied: scipy>=0.17.0 in /usr/local/miniconda3/lib/python3.7/site-packages (from scikit-learn->sklearn->fast-bert==1.5.2) (1.3.1)\n",
      "Requirement already satisfied: joblib>=0.11 in /cluster/2020vnayak/.local/lib/python3.7/site-packages (from scikit-learn->sklearn->fast-bert==1.5.2) (0.14.1)\n",
      "Requirement already satisfied: urllib3!=1.25.0,!=1.25.1,<1.26,>=1.21.1 in /usr/local/miniconda3/lib/python3.7/site-packages (from requests<3.0.0,>=2.13.0->spacy->fast-bert==1.5.2) (1.24.2)\n",
      "Requirement already satisfied: certifi>=2017.4.17 in /usr/local/miniconda3/lib/python3.7/site-packages (from requests<3.0.0,>=2.13.0->spacy->fast-bert==1.5.2) (2019.9.11)\n",
      "Requirement already satisfied: idna<2.9,>=2.5 in /usr/local/miniconda3/lib/python3.7/site-packages (from requests<3.0.0,>=2.13.0->spacy->fast-bert==1.5.2) (2.8)\n",
      "Requirement already satisfied: chardet<3.1.0,>=3.0.2 in /usr/local/miniconda3/lib/python3.7/site-packages (from requests<3.0.0,>=2.13.0->spacy->fast-bert==1.5.2) (3.0.4)\n",
      "Requirement already satisfied: importlib-metadata>=0.20; python_version < \"3.8\" in /usr/local/miniconda3/lib/python3.7/site-packages (from catalogue<1.1.0,>=0.0.7->spacy->fast-bert==1.5.2) (0.23)\n",
      "Requirement already satisfied: click in /cluster/2020vnayak/.local/lib/python3.7/site-packages (from sacremoses->transformers>=2.2.0->fast-bert==1.5.2) (7.0)\n",
      "Requirement already satisfied: s3transfer<0.3.0,>=0.2.0 in /cluster/2020vnayak/.local/lib/python3.7/site-packages (from boto3->transformers>=2.2.0->fast-bert==1.5.2) (0.2.1)\n",
      "Requirement already satisfied: botocore<1.14.0,>=1.13.40 in /cluster/2020vnayak/.local/lib/python3.7/site-packages (from boto3->transformers>=2.2.0->fast-bert==1.5.2) (1.13.40)\n",
      "Requirement already satisfied: jmespath<1.0.0,>=0.7.1 in /cluster/2020vnayak/.local/lib/python3.7/site-packages (from boto3->transformers>=2.2.0->fast-bert==1.5.2) (0.9.4)\n",
      "Requirement already satisfied: zipp>=0.5 in /usr/local/miniconda3/lib/python3.7/site-packages (from importlib-metadata>=0.20; python_version < \"3.8\"->catalogue<1.1.0,>=0.0.7->spacy->fast-bert==1.5.2) (0.6.0)\n",
      "Requirement already satisfied: docutils<0.16,>=0.10 in /cluster/2020vnayak/.local/lib/python3.7/site-packages (from botocore<1.14.0,>=1.13.40->boto3->transformers>=2.2.0->fast-bert==1.5.2) (0.15.2)\n",
      "Requirement already satisfied: more-itertools in /usr/local/miniconda3/lib/python3.7/site-packages (from zipp>=0.5->importlib-metadata>=0.20; python_version < \"3.8\"->catalogue<1.1.0,>=0.0.7->spacy->fast-bert==1.5.2) (7.2.0)\n",
      "Building wheels for collected packages: fast-bert\n",
      "  Building wheel for fast-bert (setup.py) ... \u001b[?25ldone\n",
      "\u001b[?25h  Created wheel for fast-bert: filename=fast_bert-1.5.2-cp37-none-any.whl size=60659 sha256=2075125941ceeb0b3520f7a8af49187157def64d9d9c7ca07672a7908018740a\n",
      "  Stored in directory: /tmp/pip-ephem-wheel-cache-bsqj7td4/wheels/53/11/ef/67d507c8f4f05b843a6dd2c4f6360acdee4c79679c4ca36bc6\n",
      "Successfully built fast-bert\n"
     ]
    }
   ],
   "source": [
    "!pip install --user fast-bert\n",
    "!pip install --user git+https://github.com/kaushaltrivedi/fast-bert.git"
   ]
  },
  {
   "cell_type": "code",
   "execution_count": 12,
   "metadata": {},
   "outputs": [
    {
     "name": "stdout",
     "output_type": "stream",
     "text": [
      "/cluster/2020vnayak/SeniorResearch/ProjectCode\n"
     ]
    }
   ],
   "source": [
    "!pwd"
   ]
  },
  {
   "cell_type": "code",
   "execution_count": 4,
   "metadata": {},
   "outputs": [
    {
     "name": "stdout",
     "output_type": "stream",
     "text": [
      "Cloning into 'apex'...\n",
      "warning: redirecting to https://github.com/nvidia/apex.git/\n",
      "remote: Enumerating objects: 5579, done.\u001b[K\n",
      "remote: Total 5579 (delta 0), reused 0 (delta 0), pack-reused 5579\u001b[K\n",
      "Receiving objects: 100% (5579/5579), 13.35 MiB | 15.84 MiB/s, done.\n",
      "Resolving deltas: 100% (3616/3616), done.\n"
     ]
    }
   ],
   "source": [
    "!git clone https://www.github.com/nvidia/apex"
   ]
  },
  {
   "cell_type": "code",
   "execution_count": 5,
   "metadata": {},
   "outputs": [
    {
     "name": "stdout",
     "output_type": "stream",
     "text": [
      "apex\t\t    BERT_QuestionAnswering.ipynb  test.txt\n",
      "BERT_example.ipynb  fastBERT_test.ipynb\n"
     ]
    }
   ],
   "source": [
    "!ls"
   ]
  },
  {
   "cell_type": "code",
   "execution_count": 11,
   "metadata": {},
   "outputs": [],
   "source": [
    "!cd apex"
   ]
  },
  {
   "cell_type": "code",
   "execution_count": null,
   "metadata": {},
   "outputs": [],
   "source": []
  }
 ],
 "metadata": {
  "kernelspec": {
   "display_name": "Python 3",
   "language": "python",
   "name": "python3"
  },
  "language_info": {
   "codemirror_mode": {
    "name": "ipython",
    "version": 3
   },
   "file_extension": ".py",
   "mimetype": "text/x-python",
   "name": "python",
   "nbconvert_exporter": "python",
   "pygments_lexer": "ipython3",
   "version": "3.7.4"
  }
 },
 "nbformat": 4,
 "nbformat_minor": 4
}
